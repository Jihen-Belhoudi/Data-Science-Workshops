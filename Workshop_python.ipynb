{
  "cells": [
    {
      "cell_type": "markdown",
      "metadata": {
        "id": "view-in-github",
        "colab_type": "text"
      },
      "source": [
        "<a href=\"https://colab.research.google.com/github/Jihen-Belhoudi/Data-Science-Workshops/blob/main/Workshop_python.ipynb\" target=\"_parent\"><img src=\"https://colab.research.google.com/assets/colab-badge.svg\" alt=\"Open In Colab\"/></a>"
      ]
    },
    {
      "cell_type": "markdown",
      "metadata": {
        "id": "g_YUHC9nlLcn"
      },
      "source": [
        "# The Luhn algorithm\n",
        "\n",
        "Similar to how identification numbers like NRIC, credit card numbers, phone IMEI numbers, and various forms of identification often contain a checksum, the Luhn algorithm, also known as the mod 10 algorithm, is commonly employed for this purpose.\n",
        "\n",
        "The Luhn algorithm involves the following steps:\n",
        "\n",
        "1. Begin from the right and double the value of every second digit.\n",
        "2. If the doubling operation yields a two-digit number, sum the digits of the product to obtain a single-digit number.\n",
        "3. Calculate the sum of all the digits.\n",
        "4. If the total modulo 10 equals 0, the number is considered valid; otherwise, it is deemed invalid.\n",
        "\n",
        "## Task 1:\n",
        " you are required to implement a function named `validate_luhn()` that validates an input string of digits (provided as a string).\n",
        "\n",
        "\n",
        "### Example\n",
        "\n",
        "```\n",
        "Input : [ 5 8  7 9 4 5  9 8  7 9 4 5]\n",
        "Step 1: [10 8 14 9 8 5 18 8 14 9 8 5]\n",
        "Step 2: [ 1 8  5 9 8 5  9 8  5 9 8 5]\n",
        "Step 3: 80\n",
        "Step 4: 80 % 10 = 0\n",
        "Input is valid.\n",
        "```"
      ]
    },
    {
      "cell_type": "code",
      "execution_count": 7,
      "metadata": {
        "id": "7ogkkVHWlLct"
      },
      "outputs": [],
      "source": [
        "def luhn_algorithm(inputstr):\n",
        "  total = 0\n",
        "  for i in range(len(inputstr)-1,-1,-1):\n",
        "    if i % 2 == 0 :\n",
        "      inputstr[i] = inputstr[i] * 2\n",
        "      if inputstr[i] > 9 :\n",
        "         inputstr[i]-=9\n",
        "    total+= inputstr[i]\n",
        "  return total\n",
        "\n",
        "def validate_luhn(inputstr):\n",
        "  digits = [int(digit) for digit in inputstr]\n",
        "  total=luhn_algorithm(digits)\n",
        "  print('total',total)\n",
        "  return total % 10 == 0"
      ]
    },
    {
      "cell_type": "code",
      "source": [
        "inputstr = \"496903850214\"\n",
        "print('is valid',validate_luhn(inputstr))"
      ],
      "metadata": {
        "colab": {
          "base_uri": "https://localhost:8080/"
        },
        "id": "VVCD4cLH4AFV",
        "outputId": "8201303f-298f-4516-9df7-ccdfee5ed659"
      },
      "execution_count": 8,
      "outputs": [
        {
          "output_type": "stream",
          "name": "stdout",
          "text": [
            "total 52\n",
            "is valid False\n"
          ]
        }
      ]
    },
    {
      "cell_type": "markdown",
      "metadata": {
        "id": "bgX8KmASlLcw"
      },
      "source": [
        "A credit card number typically ranges from 12 to 19 digits. The initial 1 to 4 digits of the number serve as a distinctive identifier for the issuing bank, while the remaining digits, excluding the last one, form a unique customer identification.\n",
        "\n",
        "To ensure the credit card number is valid, the last digit is adjusted to satisfy the requirements of the Luhn algorithm.\n",
        "\n",
        "For Task 2, the objective is to create a function called make_valid() that accepts a string of digits (in the form of a string) and appends a final digit to make the entire sequence valid.\n",
        "\n",
        "The function is expected to return the complete string of digits, including the newly added final check digit.\n",
        "\n",
        "## Task 2: generate valid credit card number\n",
        "\n",
        "Write a function, `make_valid()`, that will take in a string of digits (as `str`) and **add** a final digit that makes them valid.\n",
        "\n",
        "The function should return the full string of digits, including the final check digit, as output.\n",
        "\n",
        "### Example\n",
        "\n",
        "```\n",
        "Input: 492903850214850\n",
        "Sum of all digits after Luhn algorithm: 65\n",
        "Value of last digit required to pass Luhn algorithm: 5\n",
        "Full 16-digit credit card number: 4929038502148505\n",
        "```"
      ]
    },
    {
      "cell_type": "code",
      "execution_count": 9,
      "metadata": {
        "id": "PVVRG4pvlLcy"
      },
      "outputs": [],
      "source": [
        "def make_valid(inputstr):\n",
        "    digits = [int(digit) for digit in inputstr]\n",
        "    total=luhn_algorithm(digits)\n",
        "    print('total',total)\n",
        "    last_digit = total % 10\n",
        "    print(last_digit)\n",
        "    return inputstr + str(last_digit)"
      ]
    },
    {
      "cell_type": "markdown",
      "metadata": {
        "id": "X1LnKopAlLc0"
      },
      "source": [
        "## Tests\n",
        "\n",
        "Write code to test the output from `make_valid()` using `validate_luhn()`.\n",
        "\n"
      ]
    },
    {
      "cell_type": "code",
      "execution_count": null,
      "metadata": {
        "id": "nmvP5blSlLc2"
      },
      "outputs": [],
      "source": [
        "inputstr = \"492903850214850\"\n",
        "make_valid(inputstr)\n"
      ]
    },
    {
      "cell_type": "markdown",
      "metadata": {
        "id": "c_ZpmQdAlLc4"
      },
      "source": [
        "## Further challenge\n",
        "\n",
        "1. Refactor your code so that any repeated code across the two functions can be modularised."
      ]
    }
  ],
  "metadata": {
    "kernelspec": {
      "display_name": "Python 3",
      "language": "python",
      "name": "python3"
    },
    "language_info": {
      "codemirror_mode": {
        "name": "ipython",
        "version": 3
      },
      "file_extension": ".py",
      "mimetype": "text/x-python",
      "name": "python",
      "nbconvert_exporter": "python",
      "pygments_lexer": "ipython3",
      "version": "3.8.2"
    },
    "colab": {
      "provenance": [],
      "include_colab_link": true
    }
  },
  "nbformat": 4,
  "nbformat_minor": 0
}